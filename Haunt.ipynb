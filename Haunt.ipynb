{
  "nbformat": 4,
  "nbformat_minor": 0,
  "metadata": {
    "colab": {
      "provenance": []
    },
    "kernelspec": {
      "name": "python3",
      "display_name": "Python 3"
    },
    "language_info": {
      "name": "python"
    }
  },
  "cells": [
    {
      "cell_type": "code",
      "execution_count": null,
      "metadata": {
        "id": "n6a-6qFPbzRv"
      },
      "outputs": [],
      "source": [
        "import tensorflow as tf\n",
        "\n",
        "import os\n",
        "\n",
        "import shutil, random"
      ]
    },
    {
      "cell_type": "code",
      "source": [
        "def null_file(root):\n",
        "  total = 0\n",
        "  for i in os.listdir(root):\n",
        "    filepath = os.path.join(root, i)\n",
        "    if os.path.getsize(filepath) == 0:\n",
        "      total += 1; os.remove(filepath)\n",
        "  return total\n",
        "\n",
        "def corrupted_image(root):\n",
        "  total = 0\n",
        "  for i in os.listdir(root):\n",
        "    filepath = os.path.join(root, i)\n",
        "  try:\n",
        "    file_object = open(filepath, \"rb\")\n",
        "    data_object = tf.compat.as_bytes(\"JFIF\") in file_object.peek(10)\n",
        "  finally:\n",
        "    file_object.close()\n",
        "  if not data_object:\n",
        "    total += 1\n",
        "    os.remove(filepath)\n",
        "  return total\n",
        "\n",
        "def infolder(root):\n",
        "  folder = [i for i in os.listdir(root) if os.path.isdir(i)]\n",
        "  return folder"
      ],
      "metadata": {
        "id": "yGuYotencDih"
      },
      "execution_count": null,
      "outputs": []
    },
    {
      "cell_type": "code",
      "source": [
        "def datasplit(source, train_dir, testi_dir, train_split=0.8):\n",
        "\n",
        "  random_data = random.samples(os.listdir(source), len(os.listdir(source)))\n",
        "\n",
        "  train_num = int(len(random_data) * train_split)\n",
        "\n",
        "  return {\"train\":train_num, \"testi\":len(random_data) - train_num}"
      ],
      "metadata": {
        "id": "jLErsQ2QgDJF"
      },
      "execution_count": null,
      "outputs": []
    },
    {
      "cell_type": "code",
      "source": [
        "class Gradient(optimizers.RMSprop):\n",
        "  def get_gradients(self, loss, params):\n",
        "    gralist = []\n",
        "    gradients = super().get_gradients()\n",
        "    for grad in gradients:\n",
        "      gradlen = len(grad.shape)\n",
        "    return gralist\n",
        "\n",
        "optimizer = Gradient(learning_rate=0.01, momentum=0.95)\n",
        "\n",
        "loss = \"binary_crossentropy\"\n",
        "\n",
        "model.compile(optimizer=optimizer, loss=loss, metrics=[\"accuracy\"])"
      ],
      "metadata": {
        "id": "us47UUxBcPKn"
      },
      "execution_count": null,
      "outputs": []
    },
    {
      "cell_type": "code",
      "source": [
        "hist = model.fit(train_data, epochs=18, validation_data=testi_data)"
      ],
      "metadata": {
        "id": "4t63CBD0cdzP"
      },
      "execution_count": null,
      "outputs": []
    }
  ]
}